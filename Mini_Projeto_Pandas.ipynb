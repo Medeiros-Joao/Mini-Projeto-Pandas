{
 "cells": [
  {
   "cell_type": "markdown",
   "metadata": {},
   "source": [
    "### Importando a base de dados "
   ]
  },
  {
   "cell_type": "code",
   "execution_count": 2,
   "metadata": {},
   "outputs": [
    {
     "data": {
      "text/html": [
       "<div>\n",
       "<style scoped>\n",
       "    .dataframe tbody tr th:only-of-type {\n",
       "        vertical-align: middle;\n",
       "    }\n",
       "\n",
       "    .dataframe tbody tr th {\n",
       "        vertical-align: top;\n",
       "    }\n",
       "\n",
       "    .dataframe thead th {\n",
       "        text-align: right;\n",
       "    }\n",
       "</style>\n",
       "<table border=\"1\" class=\"dataframe\">\n",
       "  <thead>\n",
       "    <tr style=\"text-align: right;\">\n",
       "      <th></th>\n",
       "      <th>ID Funcionário</th>\n",
       "      <th>Estado Civil</th>\n",
       "      <th>Nome Completo</th>\n",
       "      <th>Salario Base</th>\n",
       "      <th>Impostos</th>\n",
       "      <th>Beneficios</th>\n",
       "      <th>VT</th>\n",
       "      <th>VR</th>\n",
       "      <th>Cargo</th>\n",
       "      <th>Area</th>\n",
       "    </tr>\n",
       "  </thead>\n",
       "  <tbody>\n",
       "    <tr>\n",
       "      <th>0</th>\n",
       "      <td>1</td>\n",
       "      <td>C</td>\n",
       "      <td>Gabriel Mesquita</td>\n",
       "      <td>21910</td>\n",
       "      <td>10955.0</td>\n",
       "      <td>4382.0</td>\n",
       "      <td>242</td>\n",
       "      <td>719.04</td>\n",
       "      <td>Diretor</td>\n",
       "      <td>Operações</td>\n",
       "    </tr>\n",
       "    <tr>\n",
       "      <th>1</th>\n",
       "      <td>2</td>\n",
       "      <td>C</td>\n",
       "      <td>João Haddad</td>\n",
       "      <td>5404</td>\n",
       "      <td>2702.0</td>\n",
       "      <td>1080.8</td>\n",
       "      <td>154</td>\n",
       "      <td>574.56</td>\n",
       "      <td>Estagiário</td>\n",
       "      <td>Logística</td>\n",
       "    </tr>\n",
       "    <tr>\n",
       "      <th>2</th>\n",
       "      <td>3</td>\n",
       "      <td>C</td>\n",
       "      <td>Amanda Marques Ribeiro</td>\n",
       "      <td>16066</td>\n",
       "      <td>8033.0</td>\n",
       "      <td>3213.2</td>\n",
       "      <td>154</td>\n",
       "      <td>729.12</td>\n",
       "      <td>Estagiário</td>\n",
       "      <td>Administrativo</td>\n",
       "    </tr>\n",
       "    <tr>\n",
       "      <th>3</th>\n",
       "      <td>4</td>\n",
       "      <td>C</td>\n",
       "      <td>Guilherme Nunez</td>\n",
       "      <td>21305</td>\n",
       "      <td>10652.5</td>\n",
       "      <td>4261.0</td>\n",
       "      <td>220</td>\n",
       "      <td>524.16</td>\n",
       "      <td>Analista</td>\n",
       "      <td>Administrativo</td>\n",
       "    </tr>\n",
       "    <tr>\n",
       "      <th>4</th>\n",
       "      <td>5</td>\n",
       "      <td>C</td>\n",
       "      <td>Adelino Gomes</td>\n",
       "      <td>5098</td>\n",
       "      <td>2549.0</td>\n",
       "      <td>1019.6</td>\n",
       "      <td>176</td>\n",
       "      <td>725.76</td>\n",
       "      <td>Analista</td>\n",
       "      <td>Administrativo</td>\n",
       "    </tr>\n",
       "  </tbody>\n",
       "</table>\n",
       "</div>"
      ],
      "text/plain": [
       "   ID Funcionário Estado Civil           Nome Completo  Salario Base  \\\n",
       "0               1            C        Gabriel Mesquita         21910   \n",
       "1               2            C             João Haddad          5404   \n",
       "2               3            C  Amanda Marques Ribeiro         16066   \n",
       "3               4            C         Guilherme Nunez         21305   \n",
       "4               5            C           Adelino Gomes          5098   \n",
       "\n",
       "   Impostos  Beneficios   VT      VR       Cargo            Area  \n",
       "0   10955.0      4382.0  242  719.04     Diretor       Operações  \n",
       "1    2702.0      1080.8  154  574.56  Estagiário       Logística  \n",
       "2    8033.0      3213.2  154  729.12  Estagiário  Administrativo  \n",
       "3   10652.5      4261.0  220  524.16    Analista  Administrativo  \n",
       "4    2549.0      1019.6  176  725.76    Analista  Administrativo  "
      ]
     },
     "metadata": {},
     "output_type": "display_data"
    },
    {
     "data": {
      "text/html": [
       "<div>\n",
       "<style scoped>\n",
       "    .dataframe tbody tr th:only-of-type {\n",
       "        vertical-align: middle;\n",
       "    }\n",
       "\n",
       "    .dataframe tbody tr th {\n",
       "        vertical-align: top;\n",
       "    }\n",
       "\n",
       "    .dataframe thead th {\n",
       "        text-align: right;\n",
       "    }\n",
       "</style>\n",
       "<table border=\"1\" class=\"dataframe\">\n",
       "  <thead>\n",
       "    <tr style=\"text-align: right;\">\n",
       "      <th></th>\n",
       "      <th>ID Cliente</th>\n",
       "      <th>Cliente</th>\n",
       "      <th>Valor Contrato Mensal</th>\n",
       "    </tr>\n",
       "  </thead>\n",
       "  <tbody>\n",
       "    <tr>\n",
       "      <th>0</th>\n",
       "      <td>1</td>\n",
       "      <td>Teixeira Gonçalves</td>\n",
       "      <td>540</td>\n",
       "    </tr>\n",
       "    <tr>\n",
       "      <th>1</th>\n",
       "      <td>2</td>\n",
       "      <td>Souza Santos</td>\n",
       "      <td>1260</td>\n",
       "    </tr>\n",
       "    <tr>\n",
       "      <th>2</th>\n",
       "      <td>3</td>\n",
       "      <td>Emídio Alves</td>\n",
       "      <td>3195</td>\n",
       "    </tr>\n",
       "    <tr>\n",
       "      <th>3</th>\n",
       "      <td>4</td>\n",
       "      <td>Santos Costa</td>\n",
       "      <td>2520</td>\n",
       "    </tr>\n",
       "    <tr>\n",
       "      <th>4</th>\n",
       "      <td>5</td>\n",
       "      <td>Do Monteiro</td>\n",
       "      <td>3510</td>\n",
       "    </tr>\n",
       "  </tbody>\n",
       "</table>\n",
       "</div>"
      ],
      "text/plain": [
       "   ID Cliente             Cliente  Valor Contrato Mensal\n",
       "0           1  Teixeira Gonçalves                    540\n",
       "1           2        Souza Santos                   1260\n",
       "2           3        Emídio Alves                   3195\n",
       "3           4        Santos Costa                   2520\n",
       "4           5         Do Monteiro                   3510"
      ]
     },
     "metadata": {},
     "output_type": "display_data"
    },
    {
     "data": {
      "text/html": [
       "<div>\n",
       "<style scoped>\n",
       "    .dataframe tbody tr th:only-of-type {\n",
       "        vertical-align: middle;\n",
       "    }\n",
       "\n",
       "    .dataframe tbody tr th {\n",
       "        vertical-align: top;\n",
       "    }\n",
       "\n",
       "    .dataframe thead th {\n",
       "        text-align: right;\n",
       "    }\n",
       "</style>\n",
       "<table border=\"1\" class=\"dataframe\">\n",
       "  <thead>\n",
       "    <tr style=\"text-align: right;\">\n",
       "      <th></th>\n",
       "      <th>Codigo do Servico</th>\n",
       "      <th>ID Funcionário</th>\n",
       "      <th>ID Cliente</th>\n",
       "      <th>Tempo Total de Contrato (Meses)</th>\n",
       "    </tr>\n",
       "  </thead>\n",
       "  <tbody>\n",
       "    <tr>\n",
       "      <th>0</th>\n",
       "      <td>OS0001</td>\n",
       "      <td>67</td>\n",
       "      <td>1</td>\n",
       "      <td>14</td>\n",
       "    </tr>\n",
       "    <tr>\n",
       "      <th>1</th>\n",
       "      <td>OS0002</td>\n",
       "      <td>17</td>\n",
       "      <td>2</td>\n",
       "      <td>12</td>\n",
       "    </tr>\n",
       "    <tr>\n",
       "      <th>2</th>\n",
       "      <td>OS0003</td>\n",
       "      <td>116</td>\n",
       "      <td>4</td>\n",
       "      <td>14</td>\n",
       "    </tr>\n",
       "    <tr>\n",
       "      <th>3</th>\n",
       "      <td>OS0004</td>\n",
       "      <td>37</td>\n",
       "      <td>5</td>\n",
       "      <td>8</td>\n",
       "    </tr>\n",
       "    <tr>\n",
       "      <th>4</th>\n",
       "      <td>OS0005</td>\n",
       "      <td>130</td>\n",
       "      <td>6</td>\n",
       "      <td>8</td>\n",
       "    </tr>\n",
       "  </tbody>\n",
       "</table>\n",
       "</div>"
      ],
      "text/plain": [
       "  Codigo do Servico  ID Funcionário  ID Cliente  \\\n",
       "0            OS0001              67           1   \n",
       "1            OS0002              17           2   \n",
       "2            OS0003             116           4   \n",
       "3            OS0004              37           5   \n",
       "4            OS0005             130           6   \n",
       "\n",
       "   Tempo Total de Contrato (Meses)  \n",
       "0                               14  \n",
       "1                               12  \n",
       "2                               14  \n",
       "3                                8  \n",
       "4                                8  "
      ]
     },
     "metadata": {},
     "output_type": "display_data"
    }
   ],
   "source": [
    "import pandas as pd\n",
    "\n",
    "funcionarios_df = pd.read_csv('CadastroFuncionarios.csv', sep=';', decimal=',')\n",
    "clientes_df = pd.read_csv('CadastroClientes.csv', sep=';', decimal=',')\n",
    "servicos_df = pd.read_excel('BaseServiçosPrestados.xlsx')\n",
    "\n",
    "display(funcionarios_df.head())\n",
    "display(clientes_df.head())\n",
    "display(servicos_df.head())"
   ]
  },
  {
   "cell_type": "markdown",
   "metadata": {},
   "source": [
    "### 1. Valor total da folha salarial"
   ]
  },
  {
   "cell_type": "code",
   "execution_count": 6,
   "metadata": {},
   "outputs": [
    {
     "name": "stdout",
     "output_type": "stream",
     "text": [
      "A folha salarial total da empresa foi R$ 2,717,493.22\n"
     ]
    }
   ],
   "source": [
    "folha = funcionarios_df['Salario Base']+funcionarios_df['Impostos']+funcionarios_df['Beneficios']+funcionarios_df['VT']+funcionarios_df['VR']\n",
    "print(f'A folha salarial total da empresa foi R$ {sum(folha):,}')"
   ]
  },
  {
   "cell_type": "markdown",
   "metadata": {},
   "source": [
    "### 2. Qual foi o faturamento total da empresa"
   ]
  },
  {
   "cell_type": "code",
   "execution_count": 13,
   "metadata": {},
   "outputs": [
    {
     "name": "stdout",
     "output_type": "stream",
     "text": [
      "O faturamento total da empresa foi de R$ 5,519,160.00\n"
     ]
    }
   ],
   "source": [
    "#faturamento_df = servicos_df.merge(clientes_df, on='ID cliente') Dessa forma junta-se as 2 planilhas inteiras\n",
    "faturamento_df = servicos_df[['ID Cliente','Tempo Total de Contrato (Meses)']].merge(clientes_df[['ID Cliente','Valor Contrato Mensal']], on='ID Cliente')    \n",
    "faturamento_total = faturamento_df['Tempo Total de Contrato (Meses)'] * faturamento_df['Valor Contrato Mensal']\n",
    "print(f'O faturamento total da empresa foi de R$ {sum(faturamento_total):,.2f}')"
   ]
  },
  {
   "cell_type": "markdown",
   "metadata": {},
   "source": [
    "### 3. Qual o % de funcionários fechou algum contrato"
   ]
  },
  {
   "cell_type": "code",
   "execution_count": 19,
   "metadata": {},
   "outputs": [
    {
     "name": "stdout",
     "output_type": "stream",
     "text": [
      "86.84%\n"
     ]
    }
   ],
   "source": [
    "total_funcionarios = len(funcionarios_df['ID Funcionário'])\n",
    "total_func_contr = len(servicos_df['ID Funcionário'].unique())\n",
    "print(f'{(total_func_contr / total_funcionarios):.2%}')"
   ]
  },
  {
   "cell_type": "markdown",
   "metadata": {},
   "source": [
    "### 4. Qual o total de contratos fechados por área"
   ]
  },
  {
   "cell_type": "code",
   "execution_count": 30,
   "metadata": {},
   "outputs": [
    {
     "name": "stdout",
     "output_type": "stream",
     "text": [
      "Administrativo    63\n",
      "Operações         48\n",
      "Comercial         44\n",
      "Financeiro        42\n",
      "Logística         40\n",
      "Name: Area, dtype: int64\n"
     ]
    },
    {
     "data": {
      "text/plain": [
       "<AxesSubplot:>"
      ]
     },
     "execution_count": 30,
     "metadata": {},
     "output_type": "execute_result"
    },
    {
     "data": {
      "image/png": "[encoded data removed]",
      "text/plain": [
       "<Figure size 432x288 with 1 Axes>"
      ]
     },
     "metadata": {
      "needs_background": "light"
     },
     "output_type": "display_data"
    }
   ],
   "source": [
    "contratos_df = servicos_df[['ID Funcionário']].merge(funcionarios_df[['ID Funcionário', 'Area']],on='ID Funcionário')\n",
    "total_contratos = contratos_df['Area'].value_counts()\n",
    "print(total_contratos)\n",
    "total_contratos.plot(kind='bar')"
   ]
  },
  {
   "cell_type": "markdown",
   "metadata": {},
   "source": [
    "### 5. Qual o total de funcionários por área"
   ]
  },
  {
   "cell_type": "code",
   "execution_count": 33,
   "metadata": {},
   "outputs": [
    {
     "name": "stdout",
     "output_type": "stream",
     "text": [
      "Administrativo    26\n",
      "Comercial         26\n",
      "Operações         23\n",
      "Logística         21\n",
      "Financeiro        18\n",
      "Name: Area, dtype: int64\n"
     ]
    },
    {
     "data": {
      "text/plain": [
       "<AxesSubplot:ylabel='Area'>"
      ]
     },
     "execution_count": 33,
     "metadata": {},
     "output_type": "execute_result"
    },
    {
     "data": {
      "image/png": "[encoded data removed]",
      "text/plain": [
       "<Figure size 432x288 with 1 Axes>"
      ]
     },
     "metadata": {},
     "output_type": "display_data"
    }
   ],
   "source": [
    "total_func_area = funcionarios_df['Area'].value_counts()\n",
    "print(total_func_area)\n",
    "total_func_area.plot(kind='pie')"
   ]
  },
  {
   "cell_type": "markdown",
   "metadata": {},
   "source": [
    "### 6. Qual o ticket médio mensal"
   ]
  },
  {
   "cell_type": "code",
   "execution_count": 39,
   "metadata": {},
   "outputs": [
    {
     "name": "stdout",
     "output_type": "stream",
     "text": [
      "O Ticket médio da empresa foi de R$ 2,502.56\n"
     ]
    }
   ],
   "source": [
    "ticket = clientes_df['Valor Contrato Mensal'].mean()\n",
    "print(f'O Ticket médio da empresa foi de R$ {(ticket):,.2f}')"
   ]
  }
 ],
 "metadata": {
  "kernelspec": {
   "display_name": "Python 3.10.0 64-bit",
   "language": "python",
   "name": "python3"
  },
  "language_info": {
   "codemirror_mode": {
    "name": "ipython",
    "version": 3
   },
   "file_extension": ".py",
   "mimetype": "text/x-python",
   "name": "python",
   "nbconvert_exporter": "python",
   "pygments_lexer": "ipython3",
   "version": "3.10.0"
  },
  "vscode": {
   "interpreter": {
    "hash": "8c3d4d9970fc5c09c50d9318a9c7fbf4d0159e4b28833276f5678ee22bded273"
   }
  }
 },
 "nbformat": 4,
 "nbformat_minor": 4
}
